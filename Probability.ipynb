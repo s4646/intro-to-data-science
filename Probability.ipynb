{
 "cells": [
  {
   "cell_type": "code",
   "execution_count": 1,
   "metadata": {},
   "outputs": [],
   "source": [
    "import numpy as np \n",
    "import matplotlib.pyplot as plt\n",
    "%matplotlib inline\n",
    "import scipy.stats as ss # for distribustions"
   ]
  },
  {
   "cell_type": "markdown",
   "metadata": {},
   "source": [
    "# Formulas:"
   ]
  },
  {
   "cell_type": "markdown",
   "metadata": {},
   "source": [
    "### Conditional probability: $$ P(A|B) = \\frac{P(A∩B)}{P(B)} $$ \n",
    "### Bayes' theorem: $$ P(A|B) = \\frac{P(B|A) × P(A)}{P(B)} $$\n",
    "### Extended value: $$ E(X) = \\sum_{i=1}^{n} x_{i}P(x_{i}) $$\n",
    "### Standard deviation:\n",
    "#### Population: $$ 𝜎 = \\sqrt{\\frac{1}{n}\\sum_{i=1}^{n}(x_{i}-x)^{2}} $$\n",
    "#### Sample: $$ 𝜎 = \\sqrt{\\frac{1}{n-1}\\sum_{i=1}^{n}(x_{i}-x)^{2}} $$\n",
    "### Standard distribution: $$ f(x) = \\frac{1}{\\sqrt{2𝜋𝜎^2}} e^{\\frac{-(x-𝜇)^2}{2𝜎^2}}$$\n",
    "#### Cumulative distribution: $$\\int_{a}^b f(x)dx$$"
   ]
  },
  {
   "cell_type": "code",
   "execution_count": null,
   "metadata": {},
   "outputs": [],
   "source": []
  },
  {
   "cell_type": "markdown",
   "metadata": {},
   "source": [
    "# Conditional probability, Bayes' theorem"
   ]
  },
  {
   "cell_type": "markdown",
   "metadata": {},
   "source": [
    "### Question 1"
   ]
  },
  {
   "cell_type": "markdown",
   "metadata": {},
   "source": [
    "#### Section A"
   ]
  },
  {
   "cell_type": "markdown",
   "metadata": {},
   "source": [
    "A = Identical twins\n",
    "\n",
    "B = Boy twins\n",
    "\n",
    "P(A) = $ \\frac{1}{300} $\n",
    "\n",
    "P(B) = $ \\frac{1}{300}×\\frac{1}{2} + \\frac{1}{125}×\\frac{1}{3} = \\frac{13}{3000}$\n",
    "\n",
    "Using conditional probability formula:\n",
    "\n",
    "$$ \\frac{\\frac{1}{300}×\\frac{1}{2}}{\\frac{13}{3000}} = \\frac{5}{13}$$"
   ]
  },
  {
   "cell_type": "code",
   "execution_count": 2,
   "metadata": {},
   "outputs": [
    {
     "data": {
      "text/plain": [
       "0.38461538461538464"
      ]
     },
     "execution_count": 2,
     "metadata": {},
     "output_type": "execute_result"
    }
   ],
   "source": [
    "a = 1/300\n",
    "b = (1/300)*0.5 + (1/125)*(1/3)\n",
    "ans = (a*0.5)/b\n",
    "ans"
   ]
  },
  {
   "cell_type": "markdown",
   "metadata": {},
   "source": [
    "#### Section B"
   ]
  },
  {
   "cell_type": "markdown",
   "metadata": {},
   "source": [
    "A = Bowl 1\n",
    "\n",
    "B = Chocolate\n",
    "\n",
    "P(A) = $ \\frac{1}{2} $\n",
    "\n",
    "P(B) = $ \\frac{5}{8} $\n",
    "\n",
    "Using conditional probability formula:\n",
    "\n",
    "$$ \\frac{\\frac{1}{2}×\\frac{3}{4}}{\\frac{5}{8}} = \\frac{3}{5}$$"
   ]
  },
  {
   "cell_type": "code",
   "execution_count": 3,
   "metadata": {},
   "outputs": [
    {
     "data": {
      "text/plain": [
       "0.6"
      ]
     },
     "execution_count": 3,
     "metadata": {},
     "output_type": "execute_result"
    }
   ],
   "source": [
    "a = 0.5\n",
    "b = 0.625\n",
    "ans = (a*0.75)/b\n",
    "ans"
   ]
  },
  {
   "cell_type": "code",
   "execution_count": null,
   "metadata": {},
   "outputs": [],
   "source": []
  },
  {
   "cell_type": "markdown",
   "metadata": {},
   "source": [
    "### Question 2"
   ]
  },
  {
   "cell_type": "markdown",
   "metadata": {},
   "source": [
    "A = Yellow m&m in my hand\n",
    "\n",
    "B = Yellow m&m from 1994\n",
    "\n",
    "P(A) = $ \\frac{1}{2} $\n",
    "\n",
    "P(B) = $ \\frac{1}{2}×\\frac{20}{100} + \\frac{1}{2}×\\frac{14}{100} = \\frac{34}{200}$\n",
    "\n",
    "Using conditional probability formula:\n",
    "\n",
    "$$ \\frac{\\frac{1}{2}×\\frac{20}{100}}{\\frac{34}{200}} = \\frac{10}{17}$$"
   ]
  },
  {
   "cell_type": "code",
   "execution_count": 4,
   "metadata": {},
   "outputs": [
    {
     "data": {
      "text/plain": [
       "0.5882352941176471"
      ]
     },
     "execution_count": 4,
     "metadata": {},
     "output_type": "execute_result"
    }
   ],
   "source": [
    "a = 0.5\n",
    "b = 34/200\n",
    "ans = (a*(20/100))/b\n",
    "ans"
   ]
  },
  {
   "cell_type": "code",
   "execution_count": null,
   "metadata": {},
   "outputs": [],
   "source": []
  },
  {
   "cell_type": "markdown",
   "metadata": {},
   "source": [
    "### Question 3"
   ]
  },
  {
   "cell_type": "markdown",
   "metadata": {},
   "source": [
    "#### Section A"
   ]
  },
  {
   "cell_type": "markdown",
   "metadata": {},
   "source": [
    "A = Sick\n",
    "\n",
    "B = Positive test\n",
    "\n",
    "P(A) = $ \\frac{1}{10000} $\n",
    "\n",
    "P(B) = $ \\frac{9999}{10000}×\\frac{1}{100} + \\frac{1}{10000}×\\frac{99}{100} = 0.010098$\n",
    "\n",
    "Using Bayes' theorem:\n",
    "\n",
    "$ P(B|A) = \\frac{99}{100}$\n",
    "\n",
    "$$ \\frac{\\frac{99}{100}×\\frac{1}{10000}}{0.010098} = \\frac{1}{102}$$"
   ]
  },
  {
   "cell_type": "code",
   "execution_count": 6,
   "metadata": {},
   "outputs": [
    {
     "data": {
      "text/plain": [
       "0.009803921568627453"
      ]
     },
     "execution_count": 6,
     "metadata": {},
     "output_type": "execute_result"
    }
   ],
   "source": [
    "a = 10**-4\n",
    "b = 0.010098\n",
    "ans = (0.99*a)/b\n",
    "ans"
   ]
  },
  {
   "cell_type": "markdown",
   "metadata": {},
   "source": [
    "#### Section B"
   ]
  },
  {
   "cell_type": "markdown",
   "metadata": {},
   "source": [
    "A = Sick\n",
    "\n",
    "B = Positive test\n",
    "\n",
    "P(A) = $ \\frac{1}{200} $\n",
    "\n",
    "P(B) = $ \\frac{199}{200}×\\frac{1}{100} + \\frac{1}{200}×\\frac{99}{100} = \\frac{149}{10000}$\n",
    "\n",
    "Using Bayes' theorem:\n",
    "\n",
    "$ P(B|A) = \\frac{99}{100}$\n",
    "\n",
    "$$ \\frac{\\frac{99}{100}×\\frac{1}{200}}{\\frac{149}{10000}} = \\frac{99}{298}$$"
   ]
  },
  {
   "cell_type": "code",
   "execution_count": 9,
   "metadata": {},
   "outputs": [
    {
     "data": {
      "text/plain": [
       "0.33221476510067116"
      ]
     },
     "execution_count": 9,
     "metadata": {},
     "output_type": "execute_result"
    }
   ],
   "source": [
    "a = 1/200\n",
    "b = 149/10000\n",
    "ans = (0.99*a)/b\n",
    "ans"
   ]
  },
  {
   "cell_type": "code",
   "execution_count": null,
   "metadata": {},
   "outputs": [],
   "source": []
  },
  {
   "cell_type": "code",
   "execution_count": null,
   "metadata": {},
   "outputs": [],
   "source": []
  }
 ],
 "metadata": {
  "kernelspec": {
   "display_name": "Python 3",
   "language": "python",
   "name": "python3"
  },
  "language_info": {
   "codemirror_mode": {
    "name": "ipython",
    "version": 3
   },
   "file_extension": ".py",
   "mimetype": "text/x-python",
   "name": "python",
   "nbconvert_exporter": "python",
   "pygments_lexer": "ipython3",
   "version": "3.8.3"
  }
 },
 "nbformat": 4,
 "nbformat_minor": 4
}
