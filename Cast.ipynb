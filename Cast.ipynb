{
 "cells": [
  {
   "cell_type": "code",
   "execution_count": 1,
   "metadata": {},
   "outputs": [],
   "source": [
    "import numpy as np\n",
    "import pandas as pd"
   ]
  },
  {
   "cell_type": "markdown",
   "metadata": {},
   "source": [
    "## Part 1"
   ]
  },
  {
   "cell_type": "code",
   "execution_count": 2,
   "metadata": {},
   "outputs": [
    {
     "name": "stdout",
     "output_type": "stream",
     "text": [
      "Binary:11111, Octal:37, Hexadecimal:1f\n"
     ]
    }
   ],
   "source": [
    "def DecTo(num):\n",
    "    strBin=bin(num)[2:len(bin(num))]\n",
    "    strOct=oct(num)[2:len(oct(num))]\n",
    "    strHex=hex(num)[2:len(hex(num))]\n",
    "    print('Binary:'+strBin+', Octal:'+strOct+', Hexadecimal:'+strHex)\n",
    "DecTo(31)"
   ]
  },
  {
   "cell_type": "code",
   "execution_count": null,
   "metadata": {},
   "outputs": [],
   "source": []
  },
  {
   "cell_type": "markdown",
   "metadata": {},
   "source": [
    "## Part 2"
   ]
  },
  {
   "cell_type": "code",
   "execution_count": 2,
   "metadata": {},
   "outputs": [],
   "source": [
    "df = pd.read_csv(r'cast.csv')"
   ]
  },
  {
   "cell_type": "code",
   "execution_count": 4,
   "metadata": {},
   "outputs": [
    {
     "data": {
      "text/html": [
       "<div>\n",
       "<style scoped>\n",
       "    .dataframe tbody tr th:only-of-type {\n",
       "        vertical-align: middle;\n",
       "    }\n",
       "\n",
       "    .dataframe tbody tr th {\n",
       "        vertical-align: top;\n",
       "    }\n",
       "\n",
       "    .dataframe thead th {\n",
       "        text-align: right;\n",
       "    }\n",
       "</style>\n",
       "<table border=\"1\" class=\"dataframe\">\n",
       "  <thead>\n",
       "    <tr style=\"text-align: right;\">\n",
       "      <th></th>\n",
       "      <th>title</th>\n",
       "      <th>year</th>\n",
       "      <th>name</th>\n",
       "      <th>type</th>\n",
       "      <th>character</th>\n",
       "      <th>n</th>\n",
       "    </tr>\n",
       "  </thead>\n",
       "  <tbody>\n",
       "    <tr>\n",
       "      <th>0</th>\n",
       "      <td>Suuri illusioni</td>\n",
       "      <td>1985</td>\n",
       "      <td>Homo $</td>\n",
       "      <td>actor</td>\n",
       "      <td>Guests</td>\n",
       "      <td>22.0</td>\n",
       "    </tr>\n",
       "    <tr>\n",
       "      <th>1</th>\n",
       "      <td>Gangsta Rap: The Glockumentary</td>\n",
       "      <td>2007</td>\n",
       "      <td>Too $hort</td>\n",
       "      <td>actor</td>\n",
       "      <td>Himself</td>\n",
       "      <td>NaN</td>\n",
       "    </tr>\n",
       "    <tr>\n",
       "      <th>2</th>\n",
       "      <td>Menace II Society</td>\n",
       "      <td>1993</td>\n",
       "      <td>Too $hort</td>\n",
       "      <td>actor</td>\n",
       "      <td>Lew-Loc</td>\n",
       "      <td>27.0</td>\n",
       "    </tr>\n",
       "    <tr>\n",
       "      <th>3</th>\n",
       "      <td>Porndogs: The Adventures of Sadie</td>\n",
       "      <td>2009</td>\n",
       "      <td>Too $hort</td>\n",
       "      <td>actor</td>\n",
       "      <td>Bosco</td>\n",
       "      <td>3.0</td>\n",
       "    </tr>\n",
       "    <tr>\n",
       "      <th>4</th>\n",
       "      <td>Stop Pepper Palmer</td>\n",
       "      <td>2014</td>\n",
       "      <td>Too $hort</td>\n",
       "      <td>actor</td>\n",
       "      <td>Himself</td>\n",
       "      <td>NaN</td>\n",
       "    </tr>\n",
       "  </tbody>\n",
       "</table>\n",
       "</div>"
      ],
      "text/plain": [
       "                               title  year       name   type character     n\n",
       "0                    Suuri illusioni  1985     Homo $  actor    Guests  22.0\n",
       "1     Gangsta Rap: The Glockumentary  2007  Too $hort  actor   Himself   NaN\n",
       "2                  Menace II Society  1993  Too $hort  actor   Lew-Loc  27.0\n",
       "3  Porndogs: The Adventures of Sadie  2009  Too $hort  actor     Bosco   3.0\n",
       "4                 Stop Pepper Palmer  2014  Too $hort  actor   Himself   NaN"
      ]
     },
     "execution_count": 4,
     "metadata": {},
     "output_type": "execute_result"
    }
   ],
   "source": [
    "df.head()"
   ]
  },
  {
   "cell_type": "markdown",
   "metadata": {},
   "source": [
    "#### How many movies have the title \"Hamlet\"?"
   ]
  },
  {
   "cell_type": "code",
   "execution_count": 5,
   "metadata": {},
   "outputs": [
    {
     "name": "stdout",
     "output_type": "stream",
     "text": [
      "There are 891 movies that have the title \"Hamlet\".\n"
     ]
    }
   ],
   "source": [
    "count = 0\n",
    "for i in range(len(df[\"title\"])):\n",
    "    if \"Hamlet\" in df[\"title\"][i]:\n",
    "        count+=1\n",
    "print(\"There are\",count,\"movies that have the title \\\"Hamlet\\\".\")"
   ]
  },
  {
   "cell_type": "markdown",
   "metadata": {},
   "source": [
    "#### List all of the \"Treasure Island\" movies from earliest to most recent."
   ]
  },
  {
   "cell_type": "code",
   "execution_count": 6,
   "metadata": {},
   "outputs": [
    {
     "name": "stdout",
     "output_type": "stream",
     "text": [
      "There are 524 movies that have the title \"Treasure Island\".\n"
     ]
    }
   ],
   "source": [
    "# Find all 'Treasure Island' films\n",
    "count = 0\n",
    "for i in range(len(df[\"title\"])):\n",
    "    if \"Treasure Island\" in df[\"title\"][i]:\n",
    "        count+=1\n",
    "print(\"There are\",count,\"movies that have the title \\\"Treasure Island\\\".\")"
   ]
  },
  {
   "cell_type": "code",
   "execution_count": 7,
   "metadata": {},
   "outputs": [
    {
     "data": {
      "text/plain": [
       "524"
      ]
     },
     "execution_count": 7,
     "metadata": {},
     "output_type": "execute_result"
    }
   ],
   "source": [
    "# Filter the data to have only 'Treasure Island' films\n",
    "tempDf = {'title': [],\n",
    "          'year': [],\n",
    "          'name': [],\n",
    "          'type': [],\n",
    "          'character': [],\n",
    "          'n': []\n",
    "         }\n",
    "tempDf = pd.DataFrame(tempDf)\n",
    "\n",
    "for i in range(len(df[\"title\"])):\n",
    "    if \"Treasure Island\" in df[\"title\"][i]:\n",
    "        new_row = df.iloc[i]\n",
    "        tempDf = tempDf.append(new_row, ignore_index=True)\n",
    "len(tempDf)"
   ]
  },
  {
   "cell_type": "code",
   "execution_count": 8,
   "metadata": {},
   "outputs": [
    {
     "data": {
      "text/html": [
       "<div>\n",
       "<style scoped>\n",
       "    .dataframe tbody tr th:only-of-type {\n",
       "        vertical-align: middle;\n",
       "    }\n",
       "\n",
       "    .dataframe tbody tr th {\n",
       "        vertical-align: top;\n",
       "    }\n",
       "\n",
       "    .dataframe thead th {\n",
       "        text-align: right;\n",
       "    }\n",
       "</style>\n",
       "<table border=\"1\" class=\"dataframe\">\n",
       "  <thead>\n",
       "    <tr style=\"text-align: right;\">\n",
       "      <th></th>\n",
       "      <th>title</th>\n",
       "      <th>name</th>\n",
       "      <th>type</th>\n",
       "      <th>character</th>\n",
       "      <th>n</th>\n",
       "    </tr>\n",
       "    <tr>\n",
       "      <th>year</th>\n",
       "      <th></th>\n",
       "      <th></th>\n",
       "      <th></th>\n",
       "      <th></th>\n",
       "      <th></th>\n",
       "    </tr>\n",
       "  </thead>\n",
       "  <tbody>\n",
       "    <tr>\n",
       "      <th>1918.0</th>\n",
       "      <td>Treasure Island</td>\n",
       "      <td>Buddy Messinger</td>\n",
       "      <td>actor</td>\n",
       "      <td>Ben Gunn</td>\n",
       "      <td>1.0</td>\n",
       "    </tr>\n",
       "    <tr>\n",
       "      <th>1920.0</th>\n",
       "      <td>Treasure Island</td>\n",
       "      <td>Al W. Filson</td>\n",
       "      <td>actor</td>\n",
       "      <td>Merry</td>\n",
       "      <td>1.0</td>\n",
       "    </tr>\n",
       "    <tr>\n",
       "      <th>1934.0</th>\n",
       "      <td>Treasure Island</td>\n",
       "      <td>A.B. Lane</td>\n",
       "      <td>actor</td>\n",
       "      <td>Allan</td>\n",
       "      <td>1.0</td>\n",
       "    </tr>\n",
       "    <tr>\n",
       "      <th>1938.0</th>\n",
       "      <td>The Secret of Treasure Island</td>\n",
       "      <td>Blackie Whiteford</td>\n",
       "      <td>actor</td>\n",
       "      <td>Ambulance Attendant</td>\n",
       "      <td>1.0</td>\n",
       "    </tr>\n",
       "    <tr>\n",
       "      <th>1939.0</th>\n",
       "      <td>Charlie Chan at Treasure Island</td>\n",
       "      <td>Al Kikume</td>\n",
       "      <td>actor</td>\n",
       "      <td>Abdul</td>\n",
       "      <td>1.0</td>\n",
       "    </tr>\n",
       "    <tr>\n",
       "      <th>1950.0</th>\n",
       "      <td>Treasure Island</td>\n",
       "      <td>Andrew Blackett</td>\n",
       "      <td>actor</td>\n",
       "      <td>Bart</td>\n",
       "      <td>1.0</td>\n",
       "    </tr>\n",
       "    <tr>\n",
       "      <th>1954.0</th>\n",
       "      <td>Return to Treasure Island</td>\n",
       "      <td>Charles Horvath</td>\n",
       "      <td>actor</td>\n",
       "      <td>Capt. Cardigan</td>\n",
       "      <td>1.0</td>\n",
       "    </tr>\n",
       "    <tr>\n",
       "      <th>1957.0</th>\n",
       "      <td>Five on a Treasure Island</td>\n",
       "      <td>Daga</td>\n",
       "      <td>actor</td>\n",
       "      <td>Ann</td>\n",
       "      <td>1.0</td>\n",
       "    </tr>\n",
       "    <tr>\n",
       "      <th>1972.0</th>\n",
       "      <td>Treasure Island</td>\n",
       "      <td>?ngel del Pozo</td>\n",
       "      <td>actor</td>\n",
       "      <td>Anderson</td>\n",
       "      <td>1.0</td>\n",
       "    </tr>\n",
       "    <tr>\n",
       "      <th>1973.0</th>\n",
       "      <td>Treasure Island</td>\n",
       "      <td>Dal McKennon</td>\n",
       "      <td>actor</td>\n",
       "      <td>Bearded sailor</td>\n",
       "      <td>1.0</td>\n",
       "    </tr>\n",
       "    <tr>\n",
       "      <th>1985.0</th>\n",
       "      <td>Treasure Island</td>\n",
       "      <td>Anna Karina</td>\n",
       "      <td>actor</td>\n",
       "      <td>Aunt</td>\n",
       "      <td>1.0</td>\n",
       "    </tr>\n",
       "    <tr>\n",
       "      <th>1996.0</th>\n",
       "      <td>Muppet Treasure Island</td>\n",
       "      <td>Andrew Spooner</td>\n",
       "      <td>actor</td>\n",
       "      <td>Additional Muppet Performer</td>\n",
       "      <td>1.0</td>\n",
       "    </tr>\n",
       "    <tr>\n",
       "      <th>1999.0</th>\n",
       "      <td>Treasure Island</td>\n",
       "      <td>Al Ashton</td>\n",
       "      <td>actor</td>\n",
       "      <td>Admiral</td>\n",
       "      <td>1.0</td>\n",
       "    </tr>\n",
       "    <tr>\n",
       "      <th>2006.0</th>\n",
       "      <td>Pirates of Treasure Island</td>\n",
       "      <td>Adele Pascoe</td>\n",
       "      <td>actor</td>\n",
       "      <td>Andrew Jackson</td>\n",
       "      <td>1.0</td>\n",
       "    </tr>\n",
       "    <tr>\n",
       "      <th>2015.0</th>\n",
       "      <td>National Theatre Live: Treasure Island</td>\n",
       "      <td>Aidan Kelly</td>\n",
       "      <td>actor</td>\n",
       "      <td>Ben Gunn</td>\n",
       "      <td>1.0</td>\n",
       "    </tr>\n",
       "  </tbody>\n",
       "</table>\n",
       "</div>"
      ],
      "text/plain": [
       "                                         title               name   type  \\\n",
       "year                                                                       \n",
       "1918.0                         Treasure Island    Buddy Messinger  actor   \n",
       "1920.0                         Treasure Island       Al W. Filson  actor   \n",
       "1934.0                         Treasure Island          A.B. Lane  actor   \n",
       "1938.0           The Secret of Treasure Island  Blackie Whiteford  actor   \n",
       "1939.0         Charlie Chan at Treasure Island          Al Kikume  actor   \n",
       "1950.0                         Treasure Island    Andrew Blackett  actor   \n",
       "1954.0               Return to Treasure Island    Charles Horvath  actor   \n",
       "1957.0               Five on a Treasure Island               Daga  actor   \n",
       "1972.0                         Treasure Island     ?ngel del Pozo  actor   \n",
       "1973.0                         Treasure Island       Dal McKennon  actor   \n",
       "1985.0                         Treasure Island        Anna Karina  actor   \n",
       "1996.0                  Muppet Treasure Island     Andrew Spooner  actor   \n",
       "1999.0                         Treasure Island          Al Ashton  actor   \n",
       "2006.0              Pirates of Treasure Island       Adele Pascoe  actor   \n",
       "2015.0  National Theatre Live: Treasure Island        Aidan Kelly  actor   \n",
       "\n",
       "                          character    n  \n",
       "year                                      \n",
       "1918.0                     Ben Gunn  1.0  \n",
       "1920.0                        Merry  1.0  \n",
       "1934.0                        Allan  1.0  \n",
       "1938.0          Ambulance Attendant  1.0  \n",
       "1939.0                        Abdul  1.0  \n",
       "1950.0                         Bart  1.0  \n",
       "1954.0               Capt. Cardigan  1.0  \n",
       "1957.0                          Ann  1.0  \n",
       "1972.0                     Anderson  1.0  \n",
       "1973.0               Bearded sailor  1.0  \n",
       "1985.0                         Aunt  1.0  \n",
       "1996.0  Additional Muppet Performer  1.0  \n",
       "1999.0                      Admiral  1.0  \n",
       "2006.0               Andrew Jackson  1.0  \n",
       "2015.0                     Ben Gunn  1.0  "
      ]
     },
     "execution_count": 8,
     "metadata": {},
     "output_type": "execute_result"
    }
   ],
   "source": [
    "g = tempDf.groupby('year')\n",
    "g.min()"
   ]
  },
  {
   "cell_type": "markdown",
   "metadata": {},
   "source": [
    "#### How many roles were credited in the silent 1921 version of Hamlet?\n"
   ]
  },
  {
   "cell_type": "code",
   "execution_count": 9,
   "metadata": {},
   "outputs": [
    {
     "data": {
      "text/plain": [
       "[6710, 408456, 495468, 1015046, 1948795, 2116906, 2370048, 2713980, 2964897]"
      ]
     },
     "execution_count": 9,
     "metadata": {},
     "output_type": "execute_result"
    }
   ],
   "source": [
    "mylist=[]\n",
    "for i in range(len(df[\"title\"])):\n",
    "    if (\"Hamlet\" in df[\"title\"][i]) and (df[\"year\"][i]==1921):\n",
    "        mylist.append(i)\n",
    "mylist"
   ]
  },
  {
   "cell_type": "code",
   "execution_count": 11,
   "metadata": {},
   "outputs": [
    {
     "name": "stdout",
     "output_type": "stream",
     "text": [
      "There were 9 credited roles.\n"
     ]
    }
   ],
   "source": [
    "print(\"There were\",len(mylist),\"credited roles.\")"
   ]
  },
  {
   "cell_type": "markdown",
   "metadata": {},
   "source": [
    "#### Use groupby() to plot the number of \"Hamlet\" films made each decade"
   ]
  },
  {
   "cell_type": "code",
   "execution_count": 12,
   "metadata": {},
   "outputs": [
    {
     "data": {
      "text/plain": [
       "891"
      ]
     },
     "execution_count": 12,
     "metadata": {},
     "output_type": "execute_result"
    }
   ],
   "source": [
    "# Since there are 891 'Hamlet' films, we need to filter the data to have only 'Hamlet' films\n",
    "tempDf = {'title': [],\n",
    "          'year': [],\n",
    "          'name': [],\n",
    "          'type': [],\n",
    "          'character': [],\n",
    "          'n': []\n",
    "         }\n",
    "tempDf = pd.DataFrame(tempDf)\n",
    "\n",
    "for i in range(len(df[\"title\"])):\n",
    "    if \"Hamlet\" in df[\"title\"][i]:\n",
    "        new_row = df.iloc[i]\n",
    "        tempDf = tempDf.append(new_row, ignore_index=True)\n",
    "len(tempDf)"
   ]
  },
  {
   "cell_type": "code",
   "execution_count": 31,
   "metadata": {},
   "outputs": [
    {
     "data": {
      "text/plain": [
       "{'1910-1920': 38,\n",
       " '1920-1930': 18,\n",
       " '1930-1940': 17,\n",
       " '1940-1950': 25,\n",
       " '1950-1960': 1,\n",
       " '1960-1970': 78,\n",
       " '1970-1980': 37,\n",
       " '1980-1990': 18,\n",
       " '1990-2000': 109,\n",
       " '2000-2010': 294,\n",
       " '2010-2020': 256}"
      ]
     },
     "execution_count": 31,
     "metadata": {},
     "output_type": "execute_result"
    }
   ],
   "source": [
    "g = tempDf.groupby('year')\n",
    "\n",
    "numFilms = {'1910-1920' : 0, '1920-1930' : 0, '1930-1940' : 0, '1940-1950' : 0, '1950-1960' : 0,\n",
    "            '1960-1970' : 0,  '1970-1980' : 0,  '1980-1990' : 0, '1990-2000' : 0, \n",
    "            '2000-2010' : 0, '2010-2020' : 0}\n",
    "\n",
    "for year in g:\n",
    "    temp = year[0]\n",
    "    if temp>=1910 and temp<1920:\n",
    "        numFilms['1910-1920']+=len(year[1])\n",
    "        continue\n",
    "    if temp>=1920 and temp<1930:\n",
    "        numFilms['1920-1930']+=len(year[1])\n",
    "        continue\n",
    "    if temp>=1930 and temp<1940:\n",
    "        numFilms['1930-1940']+=len(year[1])\n",
    "        continue\n",
    "    if temp>=1940 and temp<1950:\n",
    "        numFilms['1940-1950']+=len(year[1])\n",
    "        continue\n",
    "    if temp>=1950 and temp<1960:\n",
    "        numFilms['1950-1960']+=len(year[1])\n",
    "        continue\n",
    "    if temp>=1960 and temp<1970:\n",
    "        numFilms['1960-1970']+=len(year[1])\n",
    "        continue\n",
    "    if temp>=1970 and temp<1980:\n",
    "        numFilms['1970-1980']+=len(year[1])\n",
    "        continue\n",
    "    if temp>=1980 and temp<1990:\n",
    "        numFilms['1980-1990']+=len(year[1])\n",
    "        continue\n",
    "    if temp>=1990 and temp<2000:\n",
    "        numFilms['1990-2000']+=len(year[1])\n",
    "        continue\n",
    "    if temp>=2000 and temp<2010:\n",
    "        numFilms['2000-2010']+=len(year[1])\n",
    "        continue\n",
    "    if temp>=2010 and temp<2020:\n",
    "        numFilms['2010-2020']+=len(year[1])\n",
    "        continue\n",
    "numFilms"
   ]
  },
  {
   "cell_type": "code",
   "execution_count": 35,
   "metadata": {},
   "outputs": [
    {
     "data": {
      "text/plain": [
       "891"
      ]
     },
     "execution_count": 35,
     "metadata": {},
     "output_type": "execute_result"
    }
   ],
   "source": [
    "sum=0\n",
    "for i in numFilms:\n",
    "    sum+=numFilms[i]\n",
    "sum"
   ]
  },
  {
   "cell_type": "markdown",
   "metadata": {},
   "source": [
    "#### How many leading (n=1) roles were available to actors, and how many to actresses, in each year of the 1950s?"
   ]
  },
  {
   "cell_type": "code",
   "execution_count": 215,
   "metadata": {},
   "outputs": [],
   "source": [
    "# Seperate the data to actors and actresses\n",
    "g = df.groupby('type')\n",
    "actor = g.get_group('actor')\n",
    "actress = g.get_group('actress')"
   ]
  },
  {
   "cell_type": "code",
   "execution_count": 216,
   "metadata": {},
   "outputs": [],
   "source": [
    "actors = {'1950' : 0, '1951' : 0, '1952' : 0, '1953' : 0, '1954' : 0,\n",
    "          '1955' : 0, '1956' : 0, '1957' : 0, '1958' : 0, '1959' : 0}\n",
    "actresses = {'1950' : 0, '1951' : 0, '1952' : 0, '1953' : 0, '1954' : 0,\n",
    "             '1955' : 0, '1956' : 0, '1957' : 0, '1958' : 0, '1959' : 0}"
   ]
  },
  {
   "cell_type": "code",
   "execution_count": 217,
   "metadata": {},
   "outputs": [
    {
     "name": "stdout",
     "output_type": "stream",
     "text": [
      "Leading roles of actors each year:\n"
     ]
    },
    {
     "data": {
      "text/plain": [
       "{'1950': 604,\n",
       " '1951': 633,\n",
       " '1952': 591,\n",
       " '1953': 634,\n",
       " '1954': 626,\n",
       " '1955': 606,\n",
       " '1956': 614,\n",
       " '1957': 708,\n",
       " '1958': 694,\n",
       " '1959': 678}"
      ]
     },
     "execution_count": 217,
     "metadata": {},
     "output_type": "execute_result"
    }
   ],
   "source": [
    "# Actors\n",
    "g = actor.groupby('n')\n",
    "tempDf = g.get_group(1)\n",
    "tempDf = tempDf.reset_index()\n",
    "tempDf = tempDf.drop(columns = \"index\")\n",
    "tempDf\n",
    "for i in range(len(tempDf)):\n",
    "    tempYear = tempDf['year'][i]\n",
    "    if tempYear>=1950 and tempYear<1960:\n",
    "        actors[str(tempYear)]+=1\n",
    "    else:\n",
    "        continue\n",
    "print(\"Leading roles of actors each year:\")\n",
    "actors"
   ]
  },
  {
   "cell_type": "code",
   "execution_count": 218,
   "metadata": {},
   "outputs": [
    {
     "name": "stdout",
     "output_type": "stream",
     "text": [
      "Leading roles of actresses each year:\n"
     ]
    },
    {
     "data": {
      "text/plain": [
       "{'1950': 271,\n",
       " '1951': 272,\n",
       " '1952': 284,\n",
       " '1953': 290,\n",
       " '1954': 298,\n",
       " '1955': 264,\n",
       " '1956': 288,\n",
       " '1957': 284,\n",
       " '1958': 275,\n",
       " '1959': 287}"
      ]
     },
     "execution_count": 218,
     "metadata": {},
     "output_type": "execute_result"
    }
   ],
   "source": [
    "# Actresses\n",
    "g = actress.groupby('n')\n",
    "tempDf = g.get_group(1)\n",
    "tempDf = tempDf.reset_index()\n",
    "tempDf = tempDf.drop(columns = \"index\")\n",
    "tempDf\n",
    "for i in range(len(tempDf)):\n",
    "    tempYear = tempDf['year'][i]\n",
    "    if tempYear>=1950 and tempYear<1960:\n",
    "        actresses[str(tempYear)]+=1\n",
    "    else:\n",
    "        continue\n",
    "print(\"Leading roles of actresses each year:\")\n",
    "actresses"
   ]
  },
  {
   "cell_type": "markdown",
   "metadata": {},
   "source": [
    "#### List the 10 actors/actresses that have the most leading roles (n=1) since the 1990's."
   ]
  },
  {
   "cell_type": "code",
   "execution_count": 149,
   "metadata": {},
   "outputs": [],
   "source": [
    "# Filter the data to have movies from 1990 only\n",
    "g = df.groupby(\"year\")\n",
    "myList = []\n",
    "for year in g:\n",
    "    if year[0]<1990:\n",
    "        continue\n",
    "    else:\n",
    "        myList.append(year)"
   ]
  },
  {
   "cell_type": "code",
   "execution_count": 150,
   "metadata": {},
   "outputs": [],
   "source": [
    "tempDf = {'title': [],\n",
    "          'year': [],\n",
    "          'name': [],\n",
    "          'type': [],\n",
    "          'character': [],\n",
    "          'n': []\n",
    "         }\n",
    "tempDf = pd.DataFrame(tempDf)\n",
    "\n",
    "for i in range(len(myList)):\n",
    "    tempDf = pd.concat([tempDf,myList[i][1]])"
   ]
  },
  {
   "cell_type": "code",
   "execution_count": 170,
   "metadata": {},
   "outputs": [],
   "source": [
    "tempDf = tempDf.reset_index()\n",
    "tempDf = tempDf.drop(columns = \"index\")\n",
    "tempDf = tempDf.dropna()\n",
    "tempDf\n",
    "g = tempDf.groupby(\"n\")"
   ]
  },
  {
   "cell_type": "code",
   "execution_count": 171,
   "metadata": {},
   "outputs": [],
   "source": [
    "temp1 = g.get_group(1)\n",
    "temp1 = temp1.reset_index()\n",
    "temp1 = temp1.drop(columns = \"index\")\n",
    "temp2 = temp1.groupby(\"name\")"
   ]
  },
  {
   "cell_type": "code",
   "execution_count": 172,
   "metadata": {},
   "outputs": [],
   "source": [
    "countDown = 10\n",
    "myList=[]\n",
    "maxNum = 0\n",
    "maxName = ''\n",
    "\n",
    "for i in range(countDown):\n",
    "    for name in temp2:\n",
    "        if len(name[1])>maxNum:\n",
    "            maxNum=len(name[1])\n",
    "            maxName=name[0]\n",
    "        else:\n",
    "            continue\n",
    "    \n",
    "    temp1 = temp1[temp1[\"name\"]!=maxName]\n",
    "    \n",
    "    myList.append(maxName)\n",
    "    maxNum = 0\n",
    "    maxName = ''\n",
    "    temp1 = temp1.reset_index()\n",
    "    temp1 = temp1.drop(columns = \"index\")\n",
    "    temp2 = temp1.groupby(\"name\")"
   ]
  },
  {
   "cell_type": "code",
   "execution_count": 173,
   "metadata": {},
   "outputs": [
    {
     "data": {
      "text/plain": [
       "['Mohanlal',\n",
       " 'Mammootty',\n",
       " 'Akshay Kumar',\n",
       " 'Jayaram',\n",
       " 'Andy Lau',\n",
       " 'Ajay Devgn',\n",
       " 'Amitabh Bachchan',\n",
       " 'Eric Roberts',\n",
       " 'Nagarjuna Akkineni',\n",
       " 'Dilip']"
      ]
     },
     "execution_count": 173,
     "metadata": {},
     "output_type": "execute_result"
    }
   ],
   "source": [
    "myList"
   ]
  },
  {
   "cell_type": "code",
   "execution_count": 183,
   "metadata": {},
   "outputs": [
    {
     "data": {
      "text/html": [
       "<div>\n",
       "<style scoped>\n",
       "    .dataframe tbody tr th:only-of-type {\n",
       "        vertical-align: middle;\n",
       "    }\n",
       "\n",
       "    .dataframe tbody tr th {\n",
       "        vertical-align: top;\n",
       "    }\n",
       "\n",
       "    .dataframe thead th {\n",
       "        text-align: right;\n",
       "    }\n",
       "</style>\n",
       "<table border=\"1\" class=\"dataframe\">\n",
       "  <thead>\n",
       "    <tr style=\"text-align: right;\">\n",
       "      <th></th>\n",
       "      <th>title</th>\n",
       "      <th>year</th>\n",
       "      <th>name</th>\n",
       "      <th>type</th>\n",
       "      <th>character</th>\n",
       "      <th>n</th>\n",
       "    </tr>\n",
       "  </thead>\n",
       "  <tbody>\n",
       "    <tr>\n",
       "      <th>35567</th>\n",
       "      <td>Dancer</td>\n",
       "      <td>1991.0</td>\n",
       "      <td>Akshay Kumar</td>\n",
       "      <td>actor</td>\n",
       "      <td>Raju 'Raja'</td>\n",
       "      <td>1.0</td>\n",
       "    </tr>\n",
       "    <tr>\n",
       "      <th>61319</th>\n",
       "      <td>Deedar</td>\n",
       "      <td>1992.0</td>\n",
       "      <td>Akshay Kumar</td>\n",
       "      <td>actor</td>\n",
       "      <td>Anand K. Malhotra</td>\n",
       "      <td>1.0</td>\n",
       "    </tr>\n",
       "    <tr>\n",
       "      <th>61320</th>\n",
       "      <td>Khiladi</td>\n",
       "      <td>1992.0</td>\n",
       "      <td>Akshay Kumar</td>\n",
       "      <td>actor</td>\n",
       "      <td>Raj Malhotra</td>\n",
       "      <td>1.0</td>\n",
       "    </tr>\n",
       "    <tr>\n",
       "      <th>61321</th>\n",
       "      <td>Mr. Bond</td>\n",
       "      <td>1992.0</td>\n",
       "      <td>Akshay Kumar</td>\n",
       "      <td>actor</td>\n",
       "      <td>Mr. Bond</td>\n",
       "      <td>1.0</td>\n",
       "    </tr>\n",
       "    <tr>\n",
       "      <th>87397</th>\n",
       "      <td>Ashaant</td>\n",
       "      <td>1993.0</td>\n",
       "      <td>Akshay Kumar</td>\n",
       "      <td>actor</td>\n",
       "      <td>Vijay</td>\n",
       "      <td>1.0</td>\n",
       "    </tr>\n",
       "    <tr>\n",
       "      <th>...</th>\n",
       "      <td>...</td>\n",
       "      <td>...</td>\n",
       "      <td>...</td>\n",
       "      <td>...</td>\n",
       "      <td>...</td>\n",
       "      <td>...</td>\n",
       "    </tr>\n",
       "    <tr>\n",
       "      <th>1068453</th>\n",
       "      <td>It's Entertainment</td>\n",
       "      <td>2014.0</td>\n",
       "      <td>Akshay Kumar</td>\n",
       "      <td>actor</td>\n",
       "      <td>Akhil Lokhande</td>\n",
       "      <td>1.0</td>\n",
       "    </tr>\n",
       "    <tr>\n",
       "      <th>1068454</th>\n",
       "      <td>The Shaukeens</td>\n",
       "      <td>2014.0</td>\n",
       "      <td>Akshay Kumar</td>\n",
       "      <td>actor</td>\n",
       "      <td>Akshay Kumar</td>\n",
       "      <td>1.0</td>\n",
       "    </tr>\n",
       "    <tr>\n",
       "      <th>1130589</th>\n",
       "      <td>Baby</td>\n",
       "      <td>2015.0</td>\n",
       "      <td>Akshay Kumar</td>\n",
       "      <td>actor</td>\n",
       "      <td>Ajay</td>\n",
       "      <td>1.0</td>\n",
       "    </tr>\n",
       "    <tr>\n",
       "      <th>1130590</th>\n",
       "      <td>Brothers</td>\n",
       "      <td>2015.0</td>\n",
       "      <td>Akshay Kumar</td>\n",
       "      <td>actor</td>\n",
       "      <td>David Fernandes</td>\n",
       "      <td>1.0</td>\n",
       "    </tr>\n",
       "    <tr>\n",
       "      <th>1130591</th>\n",
       "      <td>Gabbar is Back</td>\n",
       "      <td>2015.0</td>\n",
       "      <td>Akshay Kumar</td>\n",
       "      <td>actor</td>\n",
       "      <td>Aditya (Gabbar)</td>\n",
       "      <td>1.0</td>\n",
       "    </tr>\n",
       "  </tbody>\n",
       "</table>\n",
       "<p>87 rows × 6 columns</p>\n",
       "</div>"
      ],
      "text/plain": [
       "                      title    year          name   type          character  \\\n",
       "35567                Dancer  1991.0  Akshay Kumar  actor        Raju 'Raja'   \n",
       "61319                Deedar  1992.0  Akshay Kumar  actor  Anand K. Malhotra   \n",
       "61320               Khiladi  1992.0  Akshay Kumar  actor       Raj Malhotra   \n",
       "61321              Mr. Bond  1992.0  Akshay Kumar  actor           Mr. Bond   \n",
       "87397               Ashaant  1993.0  Akshay Kumar  actor              Vijay   \n",
       "...                     ...     ...           ...    ...                ...   \n",
       "1068453  It's Entertainment  2014.0  Akshay Kumar  actor     Akhil Lokhande   \n",
       "1068454       The Shaukeens  2014.0  Akshay Kumar  actor       Akshay Kumar   \n",
       "1130589                Baby  2015.0  Akshay Kumar  actor               Ajay   \n",
       "1130590            Brothers  2015.0  Akshay Kumar  actor    David Fernandes   \n",
       "1130591      Gabbar is Back  2015.0  Akshay Kumar  actor    Aditya (Gabbar)   \n",
       "\n",
       "           n  \n",
       "35567    1.0  \n",
       "61319    1.0  \n",
       "61320    1.0  \n",
       "61321    1.0  \n",
       "87397    1.0  \n",
       "...      ...  \n",
       "1068453  1.0  \n",
       "1068454  1.0  \n",
       "1130589  1.0  \n",
       "1130590  1.0  \n",
       "1130591  1.0  \n",
       "\n",
       "[87 rows x 6 columns]"
      ]
     },
     "execution_count": 183,
     "metadata": {},
     "output_type": "execute_result"
    }
   ],
   "source": [
    "k = g.get_group(1)\n",
    "k = k.groupby(\"name\")\n",
    "k.get_group('Akshay Kumar')"
   ]
  },
  {
   "cell_type": "code",
   "execution_count": null,
   "metadata": {},
   "outputs": [],
   "source": []
  }
 ],
 "metadata": {
  "kernelspec": {
   "display_name": "Python 3",
   "language": "python",
   "name": "python3"
  },
  "language_info": {
   "codemirror_mode": {
    "name": "ipython",
    "version": 3
   },
   "file_extension": ".py",
   "mimetype": "text/x-python",
   "name": "python",
   "nbconvert_exporter": "python",
   "pygments_lexer": "ipython3",
   "version": "3.8.3"
  }
 },
 "nbformat": 4,
 "nbformat_minor": 4
}
